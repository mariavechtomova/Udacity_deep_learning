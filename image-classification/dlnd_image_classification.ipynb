{
 "cells": [
  {
   "cell_type": "markdown",
   "metadata": {
    "collapsed": true
   },
   "source": [
    "# Image Classification\n",
    "In this project, you'll classify images from the [CIFAR-10 dataset](https://www.cs.toronto.edu/~kriz/cifar.html).  The dataset consists of airplanes, dogs, cats, and other objects. You'll preprocess the images, then train a convolutional neural network on all the samples. The images need to be normalized and the labels need to be one-hot encoded.  You'll get to apply what you learned and build a convolutional, max pooling, dropout, and fully connected layers.  At the end, you'll get to see your neural network's predictions on the sample images.\n",
    "## Get the Data\n",
    "Run the following cell to download the [CIFAR-10 dataset for python](https://www.cs.toronto.edu/~kriz/cifar-10-python.tar.gz)."
   ]
  },
  {
   "cell_type": "code",
   "execution_count": 1,
   "metadata": {},
   "outputs": [
    {
     "name": "stdout",
     "output_type": "stream",
     "text": [
      "All files found!\n"
     ]
    }
   ],
   "source": [
    "\"\"\"\n",
    "DON'T MODIFY ANYTHING IN THIS CELL THAT IS BELOW THIS LINE\n",
    "\"\"\"\n",
    "from urllib.request import urlretrieve\n",
    "from os.path import isfile, isdir\n",
    "from tqdm import tqdm\n",
    "import problem_unittests as tests\n",
    "import tarfile\n",
    "from sklearn import preprocessing \n",
    "\n",
    "cifar10_dataset_folder_path = 'cifar-10-batches-py'\n",
    "\n",
    "# Use Floyd's cifar-10 dataset if present\n",
    "floyd_cifar10_location = '/input/cifar-10/python.tar.gz'\n",
    "if isfile(floyd_cifar10_location):\n",
    "    tar_gz_path = floyd_cifar10_location\n",
    "else:\n",
    "    tar_gz_path = 'cifar-10-python.tar.gz'\n",
    "\n",
    "class DLProgress(tqdm):\n",
    "    last_block = 0\n",
    "\n",
    "    def hook(self, block_num=1, block_size=1, total_size=None):\n",
    "        self.total = total_size\n",
    "        self.update((block_num - self.last_block) * block_size)\n",
    "        self.last_block = block_num\n",
    "\n",
    "if not isfile(tar_gz_path):\n",
    "    with DLProgress(unit='B', unit_scale=True, miniters=1, desc='CIFAR-10 Dataset') as pbar:\n",
    "        urlretrieve(\n",
    "            'https://www.cs.toronto.edu/~kriz/cifar-10-python.tar.gz',\n",
    "            tar_gz_path,\n",
    "            pbar.hook)\n",
    "\n",
    "if not isdir(cifar10_dataset_folder_path):\n",
    "    with tarfile.open(tar_gz_path) as tar:\n",
    "        tar.extractall()\n",
    "        tar.close()\n",
    "\n",
    "\n",
    "tests.test_folder_path(cifar10_dataset_folder_path)"
   ]
  },
  {
   "cell_type": "markdown",
   "metadata": {},
   "source": [
    "## Explore the Data\n",
    "The dataset is broken into batches to prevent your machine from running out of memory.  The CIFAR-10 dataset consists of 5 batches, named `data_batch_1`, `data_batch_2`, etc.. Each batch contains the labels and images that are one of the following:\n",
    "* airplane\n",
    "* automobile\n",
    "* bird\n",
    "* cat\n",
    "* deer\n",
    "* dog\n",
    "* frog\n",
    "* horse\n",
    "* ship\n",
    "* truck\n",
    "\n",
    "Understanding a dataset is part of making predictions on the data.  Play around with the code cell below by changing the `batch_id` and `sample_id`. The `batch_id` is the id for a batch (1-5). The `sample_id` is the id for a image and label pair in the batch.\n",
    "\n",
    "Ask yourself \"What are all possible labels?\", \"What is the range of values for the image data?\", \"Are the labels in order or random?\".  Answers to questions like these will help you preprocess the data and end up with better predictions."
   ]
  },
  {
   "cell_type": "code",
   "execution_count": 2,
   "metadata": {},
   "outputs": [
    {
     "name": "stdout",
     "output_type": "stream",
     "text": [
      "\n",
      "Stats of batch 1:\n",
      "Samples: 10000\n",
      "Label Counts: {0: 1005, 1: 974, 2: 1032, 3: 1016, 4: 999, 5: 937, 6: 1030, 7: 1001, 8: 1025, 9: 981}\n",
      "First 20 Labels: [6, 9, 9, 4, 1, 1, 2, 7, 8, 3, 4, 7, 7, 2, 9, 9, 9, 3, 2, 6]\n",
      "\n",
      "Example of Image 5:\n",
      "Image - Min Value: 0 Max Value: 252\n",
      "Image - Shape: (32, 32, 3)\n",
      "Label - Label Id: 1 Name: automobile\n"
     ]
    },
    {
     "data": {
      "image/png": "[encoded data removed]",
      "text/plain": [
       "<matplotlib.figure.Figure at 0x7f4c1f31b7f0>"
      ]
     },
     "metadata": {
      "image/png": {
       "height": 250.0,
       "width": 253.0
      }
     },
     "output_type": "display_data"
    }
   ],
   "source": [
    "%matplotlib inline\n",
    "%config InlineBackend.figure_format = 'retina'\n",
    "\n",
    "import helper\n",
    "import numpy as np\n",
    "\n",
    "# Explore the dataset\n",
    "batch_id = 1\n",
    "sample_id = 5\n",
    "helper.display_stats(cifar10_dataset_folder_path, batch_id, sample_id)"
   ]
  },
  {
   "cell_type": "markdown",
   "metadata": {},
   "source": [
    "## Implement Preprocess Functions\n",
    "### Normalize\n",
    "In the cell below, implement the `normalize` function to take in image data, `x`, and return it as a normalized Numpy array. The values should be in the range of 0 to 1, inclusive.  The return object should be the same shape as `x`."
   ]
  },
  {
   "cell_type": "code",
   "execution_count": 3,
   "metadata": {
    "collapsed": true
   },
   "outputs": [],
   "source": [
    "test_shape = (np.random.choice(range(1000)), 32, 32, 3)\n",
    "a = np.random.choice(range(256), test_shape)"
   ]
  },
  {
   "cell_type": "code",
   "execution_count": 4,
   "metadata": {},
   "outputs": [
    {
     "name": "stdout",
     "output_type": "stream",
     "text": [
      "Tests Passed\n"
     ]
    }
   ],
   "source": [
    "import warnings \n",
    "\n",
    "def normalize(x):\n",
    "    \"\"\"\n",
    "    Normalize a list of sample image data in the range of 0 to 1\n",
    "    : x: List of image data.  The image shape is (32, 32, 3)\n",
    "    : return: Numpy array of normalize data\n",
    "    \"\"\"\n",
    "    return np.array(x/255)\n",
    "    \n",
    "\n",
    "\"\"\"\n",
    "DON'T MODIFY ANYTHING IN THIS CELL THAT IS BELOW THIS LINE\n",
    "\"\"\"\n",
    "tests.test_normalize(normalize)"
   ]
  },
  {
   "cell_type": "markdown",
   "metadata": {},
   "source": [
    "### One-hot encode\n",
    "Just like the previous code cell, you'll be implementing a function for preprocessing.  This time, you'll implement the `one_hot_encode` function. The input, `x`, are a list of labels.  Implement the function to return the list of labels as One-Hot encoded Numpy array.  The possible values for labels are 0 to 9. The one-hot encoding function should return the same encoding for each value between each call to `one_hot_encode`.  Make sure to save the map of encodings outside the function.\n",
    "\n",
    "Hint: Don't reinvent the wheel."
   ]
  },
  {
   "cell_type": "code",
   "execution_count": 5,
   "metadata": {},
   "outputs": [
    {
     "name": "stdout",
     "output_type": "stream",
     "text": [
      "Tests Passed\n"
     ]
    }
   ],
   "source": [
    "def one_hot_encode(x):\n",
    "    \"\"\"\n",
    "    One hot encode a list of sample labels. Return a one-hot encoded vector for each label.\n",
    "    : x: List of sample Labels\n",
    "    : return: Numpy array of one-hot encoded labels\n",
    "    \"\"\"\n",
    "    nb_classes = 10\n",
    "    one_hot_targets = np.eye(nb_classes)[x]\n",
    "    return one_hot_targets\n",
    "\n",
    "\n",
    "\"\"\"\n",
    "DON'T MODIFY ANYTHING IN THIS CELL THAT IS BELOW THIS LINE\n",
    "\"\"\"\n",
    "tests.test_one_hot_encode(one_hot_encode)"
   ]
  },
  {
   "cell_type": "markdown",
   "metadata": {},
   "source": [
    "### Randomize Data\n",
    "As you saw from exploring the data above, the order of the samples are randomized.  It doesn't hurt to randomize it again, but you don't need to for this dataset."
   ]
  },
  {
   "cell_type": "markdown",
   "metadata": {},
   "source": [
    "## Preprocess all the data and save it\n",
    "Running the code cell below will preprocess all the CIFAR-10 data and save it to file. The code below also uses 10% of the training data for validation."
   ]
  },
  {
   "cell_type": "code",
   "execution_count": 6,
   "metadata": {
    "collapsed": true
   },
   "outputs": [],
   "source": [
    "\"\"\"\n",
    "DON'T MODIFY ANYTHING IN THIS CELL\n",
    "\"\"\"\n",
    "# Preprocess Training, Validation, and Testing Data\n",
    "helper.preprocess_and_save_data(cifar10_dataset_folder_path, normalize, one_hot_encode)"
   ]
  },
  {
   "cell_type": "markdown",
   "metadata": {},
   "source": [
    "# Check Point\n",
    "This is your first checkpoint.  If you ever decide to come back to this notebook or have to restart the notebook, you can start from here.  The preprocessed data has been saved to disk."
   ]
  },
  {
   "cell_type": "code",
   "execution_count": 7,
   "metadata": {
    "collapsed": true
   },
   "outputs": [],
   "source": [
    "\"\"\"\n",
    "DON'T MODIFY ANYTHING IN THIS CELL\n",
    "\"\"\"\n",
    "import pickle\n",
    "import problem_unittests as tests\n",
    "import helper\n",
    "\n",
    "# Load the Preprocessed Validation data\n",
    "valid_features, valid_labels = pickle.load(open('preprocess_validation.p', mode='rb'))"
   ]
  },
  {
   "cell_type": "markdown",
   "metadata": {},
   "source": [
    "## Build the network\n",
    "For the neural network, you'll build each layer into a function.  Most of the code you've seen has been outside of functions. To test your code more thoroughly, we require that you put each layer in a function.  This allows us to give you better feedback and test for simple mistakes using our unittests before you submit your project.\n",
    "\n",
    ">**Note:** If you're finding it hard to dedicate enough time for this course each week, we've provided a small shortcut to this part of the project. In the next couple of problems, you'll have the option to use classes from the [TensorFlow Layers](https://www.tensorflow.org/api_docs/python/tf/layers) or [TensorFlow Layers (contrib)](https://www.tensorflow.org/api_guides/python/contrib.layers) packages to build each layer, except the layers you build in the \"Convolutional and Max Pooling Layer\" section.  TF Layers is similar to Keras's and TFLearn's abstraction to layers, so it's easy to pickup.\n",
    "\n",
    ">However, if you would like to get the most out of this course, try to solve all the problems _without_ using anything from the TF Layers packages. You **can** still use classes from other packages that happen to have the same name as ones you find in TF Layers! For example, instead of using the TF Layers version of the `conv2d` class, [tf.layers.conv2d](https://www.tensorflow.org/api_docs/python/tf/layers/conv2d), you would want to use the TF Neural Network version of `conv2d`, [tf.nn.conv2d](https://www.tensorflow.org/api_docs/python/tf/nn/conv2d). \n",
    "\n",
    "Let's begin!\n",
    "\n",
    "### Input\n",
    "The neural network needs to read the image data, one-hot encoded labels, and dropout keep probability. Implement the following functions\n",
    "* Implement `neural_net_image_input`\n",
    " * Return a [TF Placeholder](https://www.tensorflow.org/api_docs/python/tf/placeholder)\n",
    " * Set the shape using `image_shape` with batch size set to `None`.\n",
    " * Name the TensorFlow placeholder \"x\" using the TensorFlow `name` parameter in the [TF Placeholder](https://www.tensorflow.org/api_docs/python/tf/placeholder).\n",
    "* Implement `neural_net_label_input`\n",
    " * Return a [TF Placeholder](https://www.tensorflow.org/api_docs/python/tf/placeholder)\n",
    " * Set the shape using `n_classes` with batch size set to `None`.\n",
    " * Name the TensorFlow placeholder \"y\" using the TensorFlow `name` parameter in the [TF Placeholder](https://www.tensorflow.org/api_docs/python/tf/placeholder).\n",
    "* Implement `neural_net_keep_prob_input`\n",
    " * Return a [TF Placeholder](https://www.tensorflow.org/api_docs/python/tf/placeholder) for dropout keep probability.\n",
    " * Name the TensorFlow placeholder \"keep_prob\" using the TensorFlow `name` parameter in the [TF Placeholder](https://www.tensorflow.org/api_docs/python/tf/placeholder).\n",
    "\n",
    "These names will be used at the end of the project to load your saved model.\n",
    "\n",
    "Note: `None` for shapes in TensorFlow allow for a dynamic size."
   ]
  },
  {
   "cell_type": "code",
   "execution_count": 8,
   "metadata": {},
   "outputs": [
    {
     "name": "stdout",
     "output_type": "stream",
     "text": [
      "Image Input Tests Passed.\n",
      "Label Input Tests Passed.\n",
      "Keep Prob Tests Passed.\n"
     ]
    }
   ],
   "source": [
    "import tensorflow as tf\n",
    "\n",
    "def neural_net_image_input(image_shape):\n",
    "    \"\"\"\n",
    "    Return a Tensor for a batch of image input\n",
    "    : image_shape: Shape of the images\n",
    "    : return: Tensor for image input.\n",
    "    \"\"\"\n",
    "\n",
    "    return tf.placeholder(tf.float32, shape=[None, *image_shape], name='x')\n",
    "\n",
    "\n",
    "def neural_net_label_input(n_classes):\n",
    "    \"\"\"\n",
    "    Return a Tensor for a batch of label input\n",
    "    : n_classes: Number of classes\n",
    "    : return: Tensor for label input.\n",
    "    \"\"\"\n",
    "\n",
    "    return tf.placeholder(tf.int64, shape=[None, n_classes], name='y')\n",
    "\n",
    "\n",
    "def neural_net_keep_prob_input():\n",
    "    \"\"\"\n",
    "    Return a Tensor for keep probability\n",
    "    : return: Tensor for keep probability.\n",
    "    \"\"\"\n",
    "\n",
    "    return tf.placeholder(tf.float32, name='keep_prob')\n",
    "\n",
    "\n",
    "\"\"\"\n",
    "DON'T MODIFY ANYTHING IN THIS CELL THAT IS BELOW THIS LINE\n",
    "\"\"\"\n",
    "tf.reset_default_graph()\n",
    "tests.test_nn_image_inputs(neural_net_image_input)\n",
    "tests.test_nn_label_inputs(neural_net_label_input)\n",
    "tests.test_nn_keep_prob_inputs(neural_net_keep_prob_input)"
   ]
  },
  {
   "cell_type": "markdown",
   "metadata": {},
   "source": [
    "### Convolution and Max Pooling Layer\n",
    "Convolution layers have a lot of success with images. For this code cell, you should implement the function `conv2d_maxpool` to apply convolution then max pooling:\n",
    "* Create the weight and bias using `conv_ksize`, `conv_num_outputs` and the shape of `x_tensor`.\n",
    "* Apply a convolution to `x_tensor` using weight and `conv_strides`.\n",
    " * We recommend you use same padding, but you're welcome to use any padding.\n",
    "* Add bias\n",
    "* Add a nonlinear activation to the convolution.\n",
    "* Apply Max Pooling using `pool_ksize` and `pool_strides`.\n",
    " * We recommend you use same padding, but you're welcome to use any padding.\n",
    "\n",
    "**Note:** You **can't** use [TensorFlow Layers](https://www.tensorflow.org/api_docs/python/tf/layers) or [TensorFlow Layers (contrib)](https://www.tensorflow.org/api_guides/python/contrib.layers) for **this** layer, but you can still use TensorFlow's [Neural Network](https://www.tensorflow.org/api_docs/python/tf/nn) package. You may still use the shortcut option for all the **other** layers."
   ]
  },
  {
   "cell_type": "code",
   "execution_count": 10,
   "metadata": {},
   "outputs": [
    {
     "name": "stdout",
     "output_type": "stream",
     "text": [
      "Tests Passed\n"
     ]
    }
   ],
   "source": [
    "def conv2d_maxpool(x_tensor, conv_num_outputs, conv_ksize, conv_strides, pool_ksize, pool_strides, layer=1):\n",
    "    \n",
    "    \"\"\"\n",
    "    Apply convolution then max pooling to x_tensor\n",
    "    :param x_tensor: TensorFlow Tensor\n",
    "    :param conv_num_outputs: Number of outputs for the convolutional layer\n",
    "    :param conv_ksize: kernal size 2-D Tuple for the convolutional layer\n",
    "    :param conv_strides: Stride 2-D Tuple for convolution\n",
    "    :param pool_ksize: kernal size 2-D Tuple for pool\n",
    "    :param pool_strides: Stride 2-D Tuple for pool\n",
    "    : return: A tensor that represents convolution and max pooling of x_tensor\n",
    "    \"\"\"\n",
    "    \n",
    "    try:\n",
    "        with tf.variable_scope(\"conv2d_maxpool_%s\" % str(layer), reuse = True) as scope:\n",
    "\n",
    "            conv_weights = tf.get_variable(\"conv_w\", shape=[conv_ksize[0], conv_ksize[1],\n",
    "                                                     x_tensor.get_shape().as_list()[3], conv_num_outputs],\\\n",
    "                                                     initializer=tf.contrib.layers.xavier_initializer_conv2d())\n",
    "            conv_biases = tf.Variable(tf.constant(0.1, shape=[conv_num_outputs]), name = \"conv_b\")\n",
    "\n",
    "            conv = tf.nn.conv2d(x_tensor, conv_weights, strides=[1, conv_strides[0], conv_strides[1], 1],\n",
    "                                     padding=\"SAME\")\n",
    "\n",
    "            relu = tf.nn.relu(tf.nn.bias_add(conv, conv_biases))\n",
    "            pool = tf.nn.max_pool(relu, ksize=[1, pool_ksize[0], pool_ksize[1], 1],\n",
    "                                           strides=[1, pool_strides[0], pool_strides[1], 1], padding='SAME')\n",
    "\n",
    "            return pool\n",
    "    except:\n",
    "        with tf.variable_scope(\"conv2d_maxpool_%s\" % (layer), reuse = False) as scope:\n",
    "\n",
    "            conv_weights = tf.get_variable(\"conv_w\", shape=[conv_ksize[0], conv_ksize[1],\n",
    "                                                     x_tensor.get_shape().as_list()[-1], conv_num_outputs],\\\n",
    "                                                     initializer=tf.contrib.layers.xavier_initializer_conv2d())\n",
    "            conv_biases = tf.Variable(tf.constant(0.1, shape=[conv_num_outputs]), name = \"conv_b\")\n",
    "\n",
    "            conv = tf.nn.conv2d(x_tensor, conv_weights, strides=[1, conv_strides[0], conv_strides[1], 1],\n",
    "                                     padding=\"SAME\")\n",
    "\n",
    "            relu = tf.nn.relu(tf.nn.bias_add(conv, conv_biases))\n",
    "            pool = tf.nn.max_pool(relu, ksize=[1, pool_ksize[0], pool_ksize[1], 1],\n",
    "                                           strides=[1, pool_strides[0], pool_strides[1], 1], padding='SAME')\n",
    "\n",
    "            return pool\n",
    "\n",
    "\"\"\"\n",
    "DON'T MODIFY ANYTHING IN THIS CELL THAT IS BELOW THIS LINE\n",
    "\"\"\"\n",
    "tests.test_con_pool(conv2d_maxpool)"
   ]
  },
  {
   "cell_type": "markdown",
   "metadata": {},
   "source": [
    "### Flatten Layer\n",
    "Implement the `flatten` function to change the dimension of `x_tensor` from a 4-D tensor to a 2-D tensor.  The output should be the shape (*Batch Size*, *Flattened Image Size*). Shortcut option: you can use classes from the [TensorFlow Layers](https://www.tensorflow.org/api_docs/python/tf/layers) or [TensorFlow Layers (contrib)](https://www.tensorflow.org/api_guides/python/contrib.layers) packages for this layer. For more of a challenge, only use other TensorFlow packages."
   ]
  },
  {
   "cell_type": "code",
   "execution_count": 11,
   "metadata": {},
   "outputs": [
    {
     "name": "stdout",
     "output_type": "stream",
     "text": [
      "Tests Passed\n"
     ]
    }
   ],
   "source": [
    "def flatten(x_tensor):\n",
    "    \"\"\"\n",
    "    Flatten x_tensor to (Batch Size, Flattened Image Size)\n",
    "    : x_tensor: A tensor of size (Batch Size, ...), where ... are the image dimensions.\n",
    "    : return: A tensor of size (Batch Size, Flattened Image Size).\n",
    "    \"\"\"\n",
    "    \n",
    "    return tf.contrib.layers.flatten(x_tensor)\n",
    "\n",
    "\n",
    "\"\"\"\n",
    "DON'T MODIFY ANYTHING IN THIS CELL THAT IS BELOW THIS LINE\n",
    "\"\"\"\n",
    "tests.test_flatten(flatten)"
   ]
  },
  {
   "cell_type": "markdown",
   "metadata": {},
   "source": [
    "### Fully-Connected Layer\n",
    "Implement the `fully_conn` function to apply a fully connected layer to `x_tensor` with the shape (*Batch Size*, *num_outputs*). Shortcut option: you can use classes from the [TensorFlow Layers](https://www.tensorflow.org/api_docs/python/tf/layers) or [TensorFlow Layers (contrib)](https://www.tensorflow.org/api_guides/python/contrib.layers) packages for this layer. For more of a challenge, only use other TensorFlow packages."
   ]
  },
  {
   "cell_type": "code",
   "execution_count": 12,
   "metadata": {},
   "outputs": [
    {
     "name": "stdout",
     "output_type": "stream",
     "text": [
      "Tests Passed\n"
     ]
    }
   ],
   "source": [
    "def fully_conn(x_tensor, num_outputs):\n",
    "    \"\"\"\n",
    "    Apply a fully connected layer to x_tensor using weight and bias\n",
    "    : x_tensor: A 2-D tensor where the first dimension is batch size.\n",
    "    : num_outputs: The number of output that the new tensor should be.\n",
    "    : return: A 2-D tensor where the second dimension is num_outputs.\n",
    "    \"\"\"\n",
    "\n",
    "    return tf.contrib.layers.fully_connected(x_tensor, num_outputs, tf.nn.relu)\n",
    "\n",
    "\n",
    "\"\"\"\n",
    "DON'T MODIFY ANYTHING IN THIS CELL THAT IS BELOW THIS LINE\n",
    "\"\"\"\n",
    "tests.test_fully_conn(fully_conn)"
   ]
  },
  {
   "cell_type": "markdown",
   "metadata": {},
   "source": [
    "### Output Layer\n",
    "Implement the `output` function to apply a fully connected layer to `x_tensor` with the shape (*Batch Size*, *num_outputs*). Shortcut option: you can use classes from the [TensorFlow Layers](https://www.tensorflow.org/api_docs/python/tf/layers) or [TensorFlow Layers (contrib)](https://www.tensorflow.org/api_guides/python/contrib.layers) packages for this layer. For more of a challenge, only use other TensorFlow packages.\n",
    "\n",
    "**Note:** Activation, softmax, or cross entropy should **not** be applied to this."
   ]
  },
  {
   "cell_type": "code",
   "execution_count": 13,
   "metadata": {},
   "outputs": [
    {
     "name": "stdout",
     "output_type": "stream",
     "text": [
      "Tests Passed\n"
     ]
    }
   ],
   "source": [
    "def output(x_tensor, num_outputs):\n",
    "    \"\"\"\n",
    "    Apply a output layer to x_tensor using weight and bias\n",
    "    : x_tensor: A 2-D tensor where the first dimension is batch size.\n",
    "    : num_outputs: The number of output that the new tensor should be.\n",
    "    : return: A 2-D tensor where the second dimension is num_outputs.\n",
    "    \"\"\"\n",
    "\n",
    "    return tf.contrib.layers.fully_connected(x_tensor, num_outputs, activation_fn=None)\n",
    "\n",
    "\n",
    "\"\"\"\n",
    "DON'T MODIFY ANYTHING IN THIS CELL THAT IS BELOW THIS LINE\n",
    "\"\"\"\n",
    "tests.test_output(output)"
   ]
  },
  {
   "cell_type": "markdown",
   "metadata": {},
   "source": [
    "### Create Convolutional Model\n",
    "Implement the function `conv_net` to create a convolutional neural network model. The function takes in a batch of images, `x`, and outputs logits.  Use the layers you created above to create this model:\n",
    "\n",
    "* Apply 1, 2, or 3 Convolution and Max Pool layers\n",
    "* Apply a Flatten Layer\n",
    "* Apply 1, 2, or 3 Fully Connected Layers\n",
    "* Apply an Output Layer\n",
    "* Return the output\n",
    "* Apply [TensorFlow's Dropout](https://www.tensorflow.org/api_docs/python/tf/nn/dropout) to one or more layers in the model using `keep_prob`. "
   ]
  },
  {
   "cell_type": "code",
   "execution_count": 14,
   "metadata": {},
   "outputs": [
    {
     "name": "stdout",
     "output_type": "stream",
     "text": [
      "Neural Network Built!\n"
     ]
    }
   ],
   "source": [
    "def conv_net(x, keep_prob):\n",
    "    \"\"\"\n",
    "    Create a convolutional neural network model\n",
    "    : x: Placeholder tensor that holds image data.\n",
    "    : keep_prob: Placeholder tensor that hold dropout keep probability.\n",
    "    : return: Tensor that represents logits\n",
    "    \"\"\"\n",
    "    \n",
    "    NUM_FILTERS_1 = 16\n",
    "    NUM_FILTERS_2 = 32\n",
    "    NUM_FILTERS_3 = 64\n",
    "    \n",
    "    NEURONS_1 = 128\n",
    "    NEURONS_2 = 256\n",
    "       \n",
    "    conv_ksize       = (8, 8)\n",
    "    conv_strides     = (1,1)   \n",
    "    pool_ksize       = (2,2) \n",
    "    pool_strides     = (2,2) \n",
    "    \n",
    "    num_outputs      = 10\n",
    "    \n",
    "    # TODO: Apply 1, 2, or 3 Convolution and Max Pool layers\n",
    "    #    Play around with different number of outputs, kernel size and stride\n",
    "    # Function Definition from Above:\n",
    "    #    conv2d_maxpool(x_tensor, conv_num_outputs, conv_ksize, conv_strides, pool_ksize, pool_strides)\n",
    "    \n",
    "    conv2d_maxpool_1 = conv2d_maxpool(x, NUM_FILTERS_1, conv_ksize, conv_strides, pool_ksize, pool_strides, 1)\n",
    "    \n",
    "    conv2d_maxpool_2 = conv2d_maxpool(conv2d_maxpool_1, NUM_FILTERS_2, conv_ksize, conv_strides,\\\n",
    "                                      pool_ksize, pool_strides, 2)\n",
    "    \n",
    "    conv2d_maxpool_3 = conv2d_maxpool(conv2d_maxpool_2, NUM_FILTERS_3, conv_ksize, conv_strides,\\\n",
    "                                      pool_ksize, pool_strides, 3)\n",
    "    \n",
    "\n",
    "    # TODO: Apply a Flatten Layer\n",
    "    # Function Definition from Above:\n",
    "    #   flatten(x_tensor)\n",
    "    \n",
    "    flattenned = flatten(conv2d_maxpool_3)\n",
    "    \n",
    "    # TODO: Apply 1, 2, or 3 Fully Connected Layers\n",
    "    #    Play around with different number of outputs\n",
    "    # Function Definition from Above:\n",
    "    #   fully_conn(x_tensor, num_outputs)\n",
    "    \n",
    "    fc_layer_1 = fully_conn(flattenned,  NEURONS_1)\n",
    "    fc_layer_1 = tf.nn.dropout(fc_layer_1, keep_prob)\n",
    "    fc_layer_2 = fully_conn(fc_layer_1,  NEURONS_2)\n",
    "    fc_layer_2 = tf.nn.dropout(fc_layer_2, keep_prob)\n",
    "    \n",
    "    \n",
    "    # TODO: Apply an Output Layer\n",
    "    #    Set this to the number of classes\n",
    "    # Function Definition from Above:\n",
    "    #   output(x_tensor, num_outputs)\n",
    "    \n",
    "    # TODO: return output\n",
    "    return  output(fc_layer_2, num_outputs)\n",
    "\n",
    "\n",
    "\"\"\"\n",
    "DON'T MODIFY ANYTHING IN THIS CELL THAT IS BELOW THIS LINE\n",
    "\"\"\"\n",
    "\n",
    "##############################\n",
    "## Build the Neural Network ##\n",
    "##############################\n",
    "\n",
    "# Remove previous weights, bias, inputs, etc..\n",
    "tf.reset_default_graph()\n",
    "\n",
    "# Inputs\n",
    "x = neural_net_image_input((32, 32, 3))\n",
    "y = neural_net_label_input(10)\n",
    "keep_prob = neural_net_keep_prob_input()\n",
    "\n",
    "# Model\n",
    "logits = conv_net(x, keep_prob)\n",
    "\n",
    "# Name logits Tensor, so that is can be loaded from disk after training\n",
    "logits = tf.identity(logits, name='logits')\n",
    "\n",
    "# Loss and Optimizer\n",
    "cost = tf.reduce_mean(tf.nn.softmax_cross_entropy_with_logits(logits=logits, labels=y))\n",
    "optimizer = tf.train.AdamOptimizer().minimize(cost)\n",
    "\n",
    "# Accuracy\n",
    "correct_pred = tf.equal(tf.argmax(logits, 1), tf.argmax(y, 1))\n",
    "accuracy = tf.reduce_mean(tf.cast(correct_pred, tf.float32), name='accuracy')\n",
    "\n",
    "tests.test_conv_net(conv_net)"
   ]
  },
  {
   "cell_type": "markdown",
   "metadata": {},
   "source": [
    "## Train the Neural Network\n",
    "### Single Optimization\n",
    "Implement the function `train_neural_network` to do a single optimization.  The optimization should use `optimizer` to optimize in `session` with a `feed_dict` of the following:\n",
    "* `x` for image input\n",
    "* `y` for labels\n",
    "* `keep_prob` for keep probability for dropout\n",
    "\n",
    "This function will be called for each batch, so `tf.global_variables_initializer()` has already been called.\n",
    "\n",
    "Note: Nothing needs to be returned. This function is only optimizing the neural network."
   ]
  },
  {
   "cell_type": "code",
   "execution_count": 15,
   "metadata": {},
   "outputs": [
    {
     "name": "stdout",
     "output_type": "stream",
     "text": [
      "Tests Passed\n"
     ]
    }
   ],
   "source": [
    "def train_neural_network(session, optimizer, keep_probability, feature_batch, label_batch):\n",
    "    \"\"\"\n",
    "    Optimize the session on a batch of images and labels\n",
    "    : session: Current TensorFlow session\n",
    "    : optimizer: TensorFlow optimizer function\n",
    "    : keep_probability: keep probability\n",
    "    : feature_batch: Batch of Numpy image data\n",
    "    : label_batch: Batch of Numpy label data\n",
    "    \"\"\"\n",
    "    # TODO: Implement Function\n",
    "    session.run(optimizer, feed_dict={x: feature_batch, y: label_batch, keep_prob: keep_probability})    \n",
    "    pass\n",
    "\n",
    "\"\"\"\n",
    "DON'T MODIFY ANYTHING IN THIS CELL THAT IS BELOW THIS LINE\n",
    "\"\"\"\n",
    "tests.test_train_nn(train_neural_network)"
   ]
  },
  {
   "cell_type": "markdown",
   "metadata": {},
   "source": [
    "### Show Stats\n",
    "Implement the function `print_stats` to print loss and validation accuracy.  Use the global variables `valid_features` and `valid_labels` to calculate validation accuracy.  Use a keep probability of `1.0` to calculate the loss and validation accuracy."
   ]
  },
  {
   "cell_type": "code",
   "execution_count": 16,
   "metadata": {
    "collapsed": true
   },
   "outputs": [],
   "source": [
    "def print_stats(session, feature_batch, label_batch, cost, accuracy):\n",
    "    \"\"\"\n",
    "    Print information about loss and validation accuracy\n",
    "    : session: Current TensorFlow session\n",
    "    : feature_batch: Batch of Numpy image data\n",
    "    : label_batch: Batch of Numpy label data\n",
    "    : cost: TensorFlow cost function\n",
    "    : accuracy: TensorFlow accuracy function\n",
    "    \"\"\"\n",
    "    loss = session.run(cost, feed_dict={x: feature_batch, y: label_batch, keep_prob:1.0})     \n",
    "    minibatch_acc = session.run(accuracy, feed_dict={x: feature_batch, y: label_batch, keep_prob:1.0})\n",
    "    valid_acc = session.run(accuracy, feed_dict={x:valid_features, y:valid_labels, keep_prob:1.0})  \n",
    "    \n",
    "    print('\\t\\nLoss: %.3f,  Minibatch Accuracy: %.2f%%, Validation Accuracy: %.2f%%' \\\n",
    "          %(loss, minibatch_acc*100, valid_acc*100))\n",
    "    \n",
    "    pass"
   ]
  },
  {
   "cell_type": "markdown",
   "metadata": {},
   "source": [
    "### Hyperparameters\n",
    "Tune the following parameters:\n",
    "* Set `epochs` to the number of iterations until the network stops learning or start overfitting\n",
    "* Set `batch_size` to the highest number that your machine has memory for.  Most people set them to common sizes of memory:\n",
    " * 64\n",
    " * 128\n",
    " * 256\n",
    " * ...\n",
    "* Set `keep_probability` to the probability of keeping a node using dropout"
   ]
  },
  {
   "cell_type": "code",
   "execution_count": 21,
   "metadata": {
    "collapsed": true
   },
   "outputs": [],
   "source": [
    "# TODO: Tune Parameters\n",
    "epochs = 25\n",
    "batch_size = 1028\n",
    "keep_probability = .8"
   ]
  },
  {
   "cell_type": "markdown",
   "metadata": {},
   "source": [
    "### Train on a Single CIFAR-10 Batch\n",
    "Instead of training the neural network on all the CIFAR-10 batches of data, let's use a single batch. This should save time while you iterate on the model to get a better accuracy.  Once the final validation accuracy is 50% or greater, run the model on all the data in the next section."
   ]
  },
  {
   "cell_type": "code",
   "execution_count": 18,
   "metadata": {},
   "outputs": [
    {
     "name": "stdout",
     "output_type": "stream",
     "text": [
      "Checking the Training on a Single Batch...\n",
      "Epoch  1, CIFAR-10 Batch 1:  \t\n",
      "Loss: 2.224,  Minibatch Accuracy: 13.66%, Validation Accuracy: 13.60%\n",
      "Epoch  2, CIFAR-10 Batch 1:  \t\n",
      "Loss: 1.999,  Minibatch Accuracy: 27.32%, Validation Accuracy: 25.46%\n",
      "Epoch  3, CIFAR-10 Batch 1:  \t\n",
      "Loss: 1.919,  Minibatch Accuracy: 30.41%, Validation Accuracy: 30.32%\n",
      "Epoch  4, CIFAR-10 Batch 1:  \t\n",
      "Loss: 1.893,  Minibatch Accuracy: 30.80%, Validation Accuracy: 31.90%\n",
      "Epoch  5, CIFAR-10 Batch 1:  \t\n",
      "Loss: 1.835,  Minibatch Accuracy: 34.15%, Validation Accuracy: 31.82%\n",
      "Epoch  6, CIFAR-10 Batch 1:  \t\n",
      "Loss: 1.742,  Minibatch Accuracy: 37.50%, Validation Accuracy: 37.32%\n",
      "Epoch  7, CIFAR-10 Batch 1:  \t\n",
      "Loss: 1.690,  Minibatch Accuracy: 38.92%, Validation Accuracy: 36.66%\n",
      "Epoch  8, CIFAR-10 Batch 1:  \t\n",
      "Loss: 1.699,  Minibatch Accuracy: 38.79%, Validation Accuracy: 36.12%\n",
      "Epoch  9, CIFAR-10 Batch 1:  \t\n",
      "Loss: 1.600,  Minibatch Accuracy: 43.81%, Validation Accuracy: 39.62%\n",
      "Epoch 10, CIFAR-10 Batch 1:  \t\n",
      "Loss: 1.555,  Minibatch Accuracy: 44.97%, Validation Accuracy: 40.70%\n",
      "Epoch 11, CIFAR-10 Batch 1:  \t\n",
      "Loss: 1.550,  Minibatch Accuracy: 45.36%, Validation Accuracy: 42.10%\n",
      "Epoch 12, CIFAR-10 Batch 1:  \t\n",
      "Loss: 1.517,  Minibatch Accuracy: 44.20%, Validation Accuracy: 42.48%\n",
      "Epoch 13, CIFAR-10 Batch 1:  \t\n",
      "Loss: 1.454,  Minibatch Accuracy: 47.68%, Validation Accuracy: 43.24%\n",
      "Epoch 14, CIFAR-10 Batch 1:  \t\n",
      "Loss: 1.439,  Minibatch Accuracy: 47.55%, Validation Accuracy: 43.86%\n",
      "Epoch 15, CIFAR-10 Batch 1:  \t\n",
      "Loss: 1.417,  Minibatch Accuracy: 48.32%, Validation Accuracy: 43.84%\n",
      "Epoch 16, CIFAR-10 Batch 1:  \t\n",
      "Loss: 1.415,  Minibatch Accuracy: 48.20%, Validation Accuracy: 43.20%\n",
      "Epoch 17, CIFAR-10 Batch 1:  \t\n",
      "Loss: 1.314,  Minibatch Accuracy: 52.96%, Validation Accuracy: 46.70%\n",
      "Epoch 18, CIFAR-10 Batch 1:  \t\n",
      "Loss: 1.259,  Minibatch Accuracy: 54.51%, Validation Accuracy: 47.52%\n",
      "Epoch 19, CIFAR-10 Batch 1:  \t\n",
      "Loss: 1.228,  Minibatch Accuracy: 55.54%, Validation Accuracy: 47.94%\n",
      "Epoch 20, CIFAR-10 Batch 1:  \t\n",
      "Loss: 1.187,  Minibatch Accuracy: 56.31%, Validation Accuracy: 49.18%\n",
      "Epoch 21, CIFAR-10 Batch 1:  \t\n",
      "Loss: 1.176,  Minibatch Accuracy: 56.83%, Validation Accuracy: 48.46%\n",
      "Epoch 22, CIFAR-10 Batch 1:  \t\n",
      "Loss: 1.163,  Minibatch Accuracy: 59.15%, Validation Accuracy: 49.08%\n",
      "Epoch 23, CIFAR-10 Batch 1:  \t\n",
      "Loss: 1.077,  Minibatch Accuracy: 62.50%, Validation Accuracy: 50.40%\n",
      "Epoch 24, CIFAR-10 Batch 1:  \t\n",
      "Loss: 1.032,  Minibatch Accuracy: 65.85%, Validation Accuracy: 51.76%\n",
      "Epoch 25, CIFAR-10 Batch 1:  \t\n",
      "Loss: 1.009,  Minibatch Accuracy: 67.78%, Validation Accuracy: 50.54%\n",
      "Epoch 26, CIFAR-10 Batch 1:  \t\n",
      "Loss: 0.977,  Minibatch Accuracy: 67.65%, Validation Accuracy: 51.60%\n",
      "Epoch 27, CIFAR-10 Batch 1:  \t\n",
      "Loss: 0.942,  Minibatch Accuracy: 68.04%, Validation Accuracy: 51.80%\n",
      "Epoch 28, CIFAR-10 Batch 1:  \t\n",
      "Loss: 0.903,  Minibatch Accuracy: 70.62%, Validation Accuracy: 51.44%\n",
      "Epoch 29, CIFAR-10 Batch 1:  \t\n",
      "Loss: 0.874,  Minibatch Accuracy: 70.62%, Validation Accuracy: 51.62%\n",
      "Epoch 30, CIFAR-10 Batch 1:  \t\n",
      "Loss: 0.872,  Minibatch Accuracy: 70.88%, Validation Accuracy: 52.84%\n",
      "Epoch 31, CIFAR-10 Batch 1:  \t\n",
      "Loss: 0.878,  Minibatch Accuracy: 70.23%, Validation Accuracy: 49.40%\n",
      "Epoch 32, CIFAR-10 Batch 1:  \t\n",
      "Loss: 0.889,  Minibatch Accuracy: 69.72%, Validation Accuracy: 50.22%\n",
      "Epoch 33, CIFAR-10 Batch 1:  \t\n",
      "Loss: 0.896,  Minibatch Accuracy: 68.56%, Validation Accuracy: 51.24%\n",
      "Epoch 34, CIFAR-10 Batch 1:  \t\n",
      "Loss: 0.818,  Minibatch Accuracy: 71.39%, Validation Accuracy: 52.10%\n",
      "Epoch 35, CIFAR-10 Batch 1:  \t\n",
      "Loss: 0.750,  Minibatch Accuracy: 74.61%, Validation Accuracy: 52.84%\n",
      "Epoch 36, CIFAR-10 Batch 1:  \t\n",
      "Loss: 0.725,  Minibatch Accuracy: 74.48%, Validation Accuracy: 52.78%\n",
      "Epoch 37, CIFAR-10 Batch 1:  \t\n",
      "Loss: 0.667,  Minibatch Accuracy: 78.22%, Validation Accuracy: 52.92%\n",
      "Epoch 38, CIFAR-10 Batch 1:  \t\n",
      "Loss: 0.613,  Minibatch Accuracy: 79.51%, Validation Accuracy: 53.30%\n",
      "Epoch 39, CIFAR-10 Batch 1:  \t\n",
      "Loss: 0.550,  Minibatch Accuracy: 82.99%, Validation Accuracy: 54.80%\n",
      "Epoch 40, CIFAR-10 Batch 1:  \t\n",
      "Loss: 0.529,  Minibatch Accuracy: 83.76%, Validation Accuracy: 54.10%\n"
     ]
    }
   ],
   "source": [
    "\"\"\"\n",
    "DON'T MODIFY ANYTHING IN THIS CELL\n",
    "\"\"\"\n",
    "print('Checking the Training on a Single Batch...')\n",
    "with tf.Session() as sess:\n",
    "    # Initializing the variables\n",
    "    sess.run(tf.global_variables_initializer())\n",
    "    \n",
    "    # Training cycle\n",
    "    for epoch in range(epochs):\n",
    "        batch_i = 1\n",
    "        for batch_features, batch_labels in helper.load_preprocess_training_batch(batch_i, batch_size):\n",
    "            #print (keep_prob)\n",
    "            train_neural_network(sess, optimizer, keep_probability, batch_features, batch_labels)\n",
    "        print('Epoch {:>2}, CIFAR-10 Batch {}:  '.format(epoch + 1, batch_i), end='')\n",
    "        print_stats(sess, batch_features, batch_labels, cost, accuracy)"
   ]
  },
  {
   "cell_type": "markdown",
   "metadata": {},
   "source": [
    "### Fully Train the Model\n",
    "Now that you got a good accuracy with a single CIFAR-10 batch, try it with all five batches."
   ]
  },
  {
   "cell_type": "code",
   "execution_count": null,
   "metadata": {
    "collapsed": true
   },
   "outputs": [],
   "source": [
    "# TODO: Tune Parameters\n",
    "epochs = 25\n",
    "batch_size = 1028\n",
    "keep_probability = .8"
   ]
  },
  {
   "cell_type": "code",
   "execution_count": 22,
   "metadata": {},
   "outputs": [
    {
     "name": "stdout",
     "output_type": "stream",
     "text": [
      "Training...\n",
      "Epoch  1, CIFAR-10 Batch 1:  \t\n",
      "Loss: 2.231,  Minibatch Accuracy: 15.08%, Validation Accuracy: 14.34%\n",
      "Epoch  1, CIFAR-10 Batch 2:  \t\n",
      "Loss: 2.082,  Minibatch Accuracy: 22.42%, Validation Accuracy: 23.58%\n",
      "Epoch  1, CIFAR-10 Batch 3:  \t\n",
      "Loss: 1.933,  Minibatch Accuracy: 27.96%, Validation Accuracy: 27.96%\n",
      "Epoch  1, CIFAR-10 Batch 4:  \t\n",
      "Loss: 1.833,  Minibatch Accuracy: 35.18%, Validation Accuracy: 33.34%\n",
      "Epoch  1, CIFAR-10 Batch 5:  \t\n",
      "Loss: 1.786,  Minibatch Accuracy: 34.15%, Validation Accuracy: 34.82%\n",
      "Epoch  2, CIFAR-10 Batch 1:  \t\n",
      "Loss: 1.787,  Minibatch Accuracy: 35.95%, Validation Accuracy: 34.46%\n",
      "Epoch  2, CIFAR-10 Batch 2:  \t\n",
      "Loss: 1.750,  Minibatch Accuracy: 37.24%, Validation Accuracy: 37.26%\n",
      "Epoch  2, CIFAR-10 Batch 3:  \t\n",
      "Loss: 1.557,  Minibatch Accuracy: 42.78%, Validation Accuracy: 40.42%\n",
      "Epoch  2, CIFAR-10 Batch 4:  \t\n",
      "Loss: 1.555,  Minibatch Accuracy: 41.75%, Validation Accuracy: 41.96%\n",
      "Epoch  2, CIFAR-10 Batch 5:  \t\n",
      "Loss: 1.539,  Minibatch Accuracy: 42.91%, Validation Accuracy: 43.70%\n",
      "Epoch  3, CIFAR-10 Batch 1:  \t\n",
      "Loss: 1.606,  Minibatch Accuracy: 42.27%, Validation Accuracy: 41.12%\n",
      "Epoch  3, CIFAR-10 Batch 2:  \t\n",
      "Loss: 1.549,  Minibatch Accuracy: 44.20%, Validation Accuracy: 45.08%\n",
      "Epoch  3, CIFAR-10 Batch 3:  \t\n",
      "Loss: 1.406,  Minibatch Accuracy: 49.74%, Validation Accuracy: 45.46%\n",
      "Epoch  3, CIFAR-10 Batch 4:  \t\n",
      "Loss: 1.408,  Minibatch Accuracy: 47.94%, Validation Accuracy: 47.20%\n",
      "Epoch  3, CIFAR-10 Batch 5:  \t\n",
      "Loss: 1.406,  Minibatch Accuracy: 48.32%, Validation Accuracy: 47.98%\n",
      "Epoch  4, CIFAR-10 Batch 1:  \t\n",
      "Loss: 1.377,  Minibatch Accuracy: 50.26%, Validation Accuracy: 47.72%\n",
      "Epoch  4, CIFAR-10 Batch 2:  \t\n",
      "Loss: 1.417,  Minibatch Accuracy: 49.36%, Validation Accuracy: 49.44%\n",
      "Epoch  4, CIFAR-10 Batch 3:  \t\n",
      "Loss: 1.297,  Minibatch Accuracy: 52.45%, Validation Accuracy: 49.12%\n",
      "Epoch  4, CIFAR-10 Batch 4:  \t\n",
      "Loss: 1.322,  Minibatch Accuracy: 50.00%, Validation Accuracy: 50.18%\n",
      "Epoch  4, CIFAR-10 Batch 5:  \t\n",
      "Loss: 1.289,  Minibatch Accuracy: 54.64%, Validation Accuracy: 50.68%\n",
      "Epoch  5, CIFAR-10 Batch 1:  \t\n",
      "Loss: 1.294,  Minibatch Accuracy: 54.12%, Validation Accuracy: 50.46%\n",
      "Epoch  5, CIFAR-10 Batch 2:  \t\n",
      "Loss: 1.307,  Minibatch Accuracy: 53.61%, Validation Accuracy: 52.36%\n",
      "Epoch  5, CIFAR-10 Batch 3:  \t\n",
      "Loss: 1.226,  Minibatch Accuracy: 56.83%, Validation Accuracy: 52.72%\n",
      "Epoch  5, CIFAR-10 Batch 4:  \t\n",
      "Loss: 1.203,  Minibatch Accuracy: 55.28%, Validation Accuracy: 53.36%\n",
      "Epoch  5, CIFAR-10 Batch 5:  \t\n",
      "Loss: 1.194,  Minibatch Accuracy: 59.02%, Validation Accuracy: 53.68%\n",
      "Epoch  6, CIFAR-10 Batch 1:  \t\n",
      "Loss: 1.183,  Minibatch Accuracy: 59.15%, Validation Accuracy: 54.08%\n",
      "Epoch  6, CIFAR-10 Batch 2:  \t\n",
      "Loss: 1.231,  Minibatch Accuracy: 57.09%, Validation Accuracy: 55.16%\n",
      "Epoch  6, CIFAR-10 Batch 3:  \t\n",
      "Loss: 1.151,  Minibatch Accuracy: 60.05%, Validation Accuracy: 53.82%\n",
      "Epoch  6, CIFAR-10 Batch 4:  \t\n",
      "Loss: 1.150,  Minibatch Accuracy: 56.96%, Validation Accuracy: 55.14%\n",
      "Epoch  6, CIFAR-10 Batch 5:  \t\n",
      "Loss: 1.103,  Minibatch Accuracy: 60.70%, Validation Accuracy: 56.04%\n",
      "Epoch  7, CIFAR-10 Batch 1:  \t\n",
      "Loss: 1.099,  Minibatch Accuracy: 61.08%, Validation Accuracy: 57.42%\n",
      "Epoch  7, CIFAR-10 Batch 2:  \t\n",
      "Loss: 1.142,  Minibatch Accuracy: 59.92%, Validation Accuracy: 56.78%\n",
      "Epoch  7, CIFAR-10 Batch 3:  \t\n",
      "Loss: 1.088,  Minibatch Accuracy: 62.63%, Validation Accuracy: 56.82%\n",
      "Epoch  7, CIFAR-10 Batch 4:  \t\n",
      "Loss: 1.098,  Minibatch Accuracy: 60.18%, Validation Accuracy: 56.38%\n",
      "Epoch  7, CIFAR-10 Batch 5:  \t\n",
      "Loss: 1.049,  Minibatch Accuracy: 62.76%, Validation Accuracy: 57.72%\n",
      "Epoch  8, CIFAR-10 Batch 1:  \t\n",
      "Loss: 1.068,  Minibatch Accuracy: 62.24%, Validation Accuracy: 57.66%\n",
      "Epoch  8, CIFAR-10 Batch 2:  \t\n",
      "Loss: 1.077,  Minibatch Accuracy: 62.37%, Validation Accuracy: 57.46%\n",
      "Epoch  8, CIFAR-10 Batch 3:  \t\n",
      "Loss: 1.000,  Minibatch Accuracy: 65.08%, Validation Accuracy: 58.90%\n",
      "Epoch  8, CIFAR-10 Batch 4:  \t\n",
      "Loss: 1.029,  Minibatch Accuracy: 64.05%, Validation Accuracy: 59.12%\n",
      "Epoch  8, CIFAR-10 Batch 5:  \t\n",
      "Loss: 0.980,  Minibatch Accuracy: 66.49%, Validation Accuracy: 59.66%\n",
      "Epoch  9, CIFAR-10 Batch 1:  \t\n",
      "Loss: 1.052,  Minibatch Accuracy: 62.50%, Validation Accuracy: 56.98%\n",
      "Epoch  9, CIFAR-10 Batch 2:  \t\n",
      "Loss: 1.066,  Minibatch Accuracy: 62.63%, Validation Accuracy: 57.98%\n",
      "Epoch  9, CIFAR-10 Batch 3:  \t\n",
      "Loss: 0.982,  Minibatch Accuracy: 65.72%, Validation Accuracy: 59.48%\n",
      "Epoch  9, CIFAR-10 Batch 4:  \t\n",
      "Loss: 0.981,  Minibatch Accuracy: 66.24%, Validation Accuracy: 59.68%\n",
      "Epoch  9, CIFAR-10 Batch 5:  \t\n",
      "Loss: 0.938,  Minibatch Accuracy: 69.07%, Validation Accuracy: 60.40%\n",
      "Epoch 10, CIFAR-10 Batch 1:  \t\n",
      "Loss: 0.922,  Minibatch Accuracy: 68.04%, Validation Accuracy: 60.56%\n",
      "Epoch 10, CIFAR-10 Batch 2:  \t\n",
      "Loss: 0.972,  Minibatch Accuracy: 65.98%, Validation Accuracy: 60.64%\n",
      "Epoch 10, CIFAR-10 Batch 3:  \t\n",
      "Loss: 0.897,  Minibatch Accuracy: 67.40%, Validation Accuracy: 60.96%\n",
      "Epoch 10, CIFAR-10 Batch 4:  \t\n",
      "Loss: 0.907,  Minibatch Accuracy: 68.17%, Validation Accuracy: 61.72%\n",
      "Epoch 10, CIFAR-10 Batch 5:  \t\n",
      "Loss: 0.875,  Minibatch Accuracy: 71.01%, Validation Accuracy: 61.56%\n",
      "Epoch 11, CIFAR-10 Batch 1:  \t\n",
      "Loss: 0.966,  Minibatch Accuracy: 65.85%, Validation Accuracy: 58.68%\n",
      "Epoch 11, CIFAR-10 Batch 2:  \t\n",
      "Loss: 0.949,  Minibatch Accuracy: 66.88%, Validation Accuracy: 60.04%\n",
      "Epoch 11, CIFAR-10 Batch 3:  \t\n",
      "Loss: 0.875,  Minibatch Accuracy: 69.20%, Validation Accuracy: 61.26%\n",
      "Epoch 11, CIFAR-10 Batch 4:  \t\n",
      "Loss: 0.893,  Minibatch Accuracy: 69.85%, Validation Accuracy: 60.84%\n",
      "Epoch 11, CIFAR-10 Batch 5:  \t\n",
      "Loss: 0.844,  Minibatch Accuracy: 71.65%, Validation Accuracy: 62.10%\n",
      "Epoch 12, CIFAR-10 Batch 1:  \t\n",
      "Loss: 0.845,  Minibatch Accuracy: 71.52%, Validation Accuracy: 62.58%\n",
      "Epoch 12, CIFAR-10 Batch 2:  \t\n",
      "Loss: 0.893,  Minibatch Accuracy: 68.94%, Validation Accuracy: 60.82%\n",
      "Epoch 12, CIFAR-10 Batch 3:  \t\n",
      "Loss: 0.853,  Minibatch Accuracy: 68.94%, Validation Accuracy: 61.46%\n",
      "Epoch 12, CIFAR-10 Batch 4:  \t\n",
      "Loss: 0.833,  Minibatch Accuracy: 70.49%, Validation Accuracy: 61.46%\n",
      "Epoch 12, CIFAR-10 Batch 5:  \t\n",
      "Loss: 0.808,  Minibatch Accuracy: 73.58%, Validation Accuracy: 62.26%\n",
      "Epoch 13, CIFAR-10 Batch 1:  \t\n",
      "Loss: 0.782,  Minibatch Accuracy: 73.20%, Validation Accuracy: 63.48%\n",
      "Epoch 13, CIFAR-10 Batch 2:  \t\n",
      "Loss: 0.859,  Minibatch Accuracy: 69.72%, Validation Accuracy: 61.46%\n",
      "Epoch 13, CIFAR-10 Batch 3:  \t\n",
      "Loss: 0.804,  Minibatch Accuracy: 70.75%, Validation Accuracy: 61.76%\n",
      "Epoch 13, CIFAR-10 Batch 4:  \t\n",
      "Loss: 0.772,  Minibatch Accuracy: 72.68%, Validation Accuracy: 63.70%\n",
      "Epoch 13, CIFAR-10 Batch 5:  \t\n",
      "Loss: 0.771,  Minibatch Accuracy: 74.36%, Validation Accuracy: 63.82%\n",
      "Epoch 14, CIFAR-10 Batch 1:  \t\n",
      "Loss: 0.742,  Minibatch Accuracy: 74.87%, Validation Accuracy: 63.46%\n",
      "Epoch 14, CIFAR-10 Batch 2:  \t\n",
      "Loss: 0.798,  Minibatch Accuracy: 73.58%, Validation Accuracy: 62.94%\n",
      "Epoch 14, CIFAR-10 Batch 3:  \t\n",
      "Loss: 0.784,  Minibatch Accuracy: 70.75%, Validation Accuracy: 62.08%\n",
      "Epoch 14, CIFAR-10 Batch 4:  \t\n",
      "Loss: 0.711,  Minibatch Accuracy: 74.74%, Validation Accuracy: 63.98%\n",
      "Epoch 14, CIFAR-10 Batch 5:  \t\n",
      "Loss: 0.737,  Minibatch Accuracy: 74.48%, Validation Accuracy: 63.38%\n",
      "Epoch 15, CIFAR-10 Batch 1:  \t\n",
      "Loss: 0.711,  Minibatch Accuracy: 75.00%, Validation Accuracy: 63.38%\n",
      "Epoch 15, CIFAR-10 Batch 2:  \t\n",
      "Loss: 0.730,  Minibatch Accuracy: 75.52%, Validation Accuracy: 64.14%\n",
      "Epoch 15, CIFAR-10 Batch 3:  \t\n",
      "Loss: 0.661,  Minibatch Accuracy: 77.06%, Validation Accuracy: 64.76%\n",
      "Epoch 15, CIFAR-10 Batch 4:  \t\n",
      "Loss: 0.696,  Minibatch Accuracy: 75.39%, Validation Accuracy: 62.76%\n",
      "Epoch 15, CIFAR-10 Batch 5:  \t\n",
      "Loss: 0.702,  Minibatch Accuracy: 76.42%, Validation Accuracy: 63.02%\n",
      "Epoch 16, CIFAR-10 Batch 1:  \t\n",
      "Loss: 0.683,  Minibatch Accuracy: 75.90%, Validation Accuracy: 63.30%\n",
      "Epoch 16, CIFAR-10 Batch 2:  \t\n",
      "Loss: 0.695,  Minibatch Accuracy: 76.29%, Validation Accuracy: 64.80%\n",
      "Epoch 16, CIFAR-10 Batch 3:  \t\n",
      "Loss: 0.690,  Minibatch Accuracy: 74.74%, Validation Accuracy: 63.48%\n",
      "Epoch 16, CIFAR-10 Batch 4:  \t\n",
      "Loss: 0.641,  Minibatch Accuracy: 78.74%, Validation Accuracy: 63.78%\n",
      "Epoch 16, CIFAR-10 Batch 5:  \t\n",
      "Loss: 0.662,  Minibatch Accuracy: 78.22%, Validation Accuracy: 64.44%\n",
      "Epoch 17, CIFAR-10 Batch 1:  \t\n",
      "Loss: 0.627,  Minibatch Accuracy: 77.96%, Validation Accuracy: 64.68%\n"
     ]
    },
    {
     "name": "stdout",
     "output_type": "stream",
     "text": [
      "Epoch 17, CIFAR-10 Batch 2:  \t\n",
      "Loss: 0.656,  Minibatch Accuracy: 78.09%, Validation Accuracy: 64.10%\n",
      "Epoch 17, CIFAR-10 Batch 3:  \t\n",
      "Loss: 0.623,  Minibatch Accuracy: 77.71%, Validation Accuracy: 64.32%\n",
      "Epoch 17, CIFAR-10 Batch 4:  \t\n",
      "Loss: 0.595,  Minibatch Accuracy: 80.67%, Validation Accuracy: 63.46%\n",
      "Epoch 17, CIFAR-10 Batch 5:  \t\n",
      "Loss: 0.606,  Minibatch Accuracy: 79.12%, Validation Accuracy: 65.04%\n",
      "Epoch 18, CIFAR-10 Batch 1:  \t\n",
      "Loss: 0.571,  Minibatch Accuracy: 79.77%, Validation Accuracy: 65.10%\n",
      "Epoch 18, CIFAR-10 Batch 2:  \t\n",
      "Loss: 0.614,  Minibatch Accuracy: 78.09%, Validation Accuracy: 64.16%\n",
      "Epoch 18, CIFAR-10 Batch 3:  \t\n",
      "Loss: 0.622,  Minibatch Accuracy: 78.48%, Validation Accuracy: 63.64%\n",
      "Epoch 18, CIFAR-10 Batch 4:  \t\n",
      "Loss: 0.577,  Minibatch Accuracy: 82.47%, Validation Accuracy: 63.34%\n",
      "Epoch 18, CIFAR-10 Batch 5:  \t\n",
      "Loss: 0.573,  Minibatch Accuracy: 79.64%, Validation Accuracy: 64.78%\n",
      "Epoch 19, CIFAR-10 Batch 1:  \t\n",
      "Loss: 0.539,  Minibatch Accuracy: 81.70%, Validation Accuracy: 65.34%\n",
      "Epoch 19, CIFAR-10 Batch 2:  \t\n",
      "Loss: 0.598,  Minibatch Accuracy: 80.03%, Validation Accuracy: 64.26%\n",
      "Epoch 19, CIFAR-10 Batch 3:  \t\n",
      "Loss: 0.574,  Minibatch Accuracy: 79.51%, Validation Accuracy: 64.24%\n",
      "Epoch 19, CIFAR-10 Batch 4:  \t\n",
      "Loss: 0.607,  Minibatch Accuracy: 80.80%, Validation Accuracy: 62.48%\n",
      "Epoch 19, CIFAR-10 Batch 5:  \t\n",
      "Loss: 0.561,  Minibatch Accuracy: 80.41%, Validation Accuracy: 65.06%\n",
      "Epoch 20, CIFAR-10 Batch 1:  \t\n",
      "Loss: 0.509,  Minibatch Accuracy: 84.54%, Validation Accuracy: 65.64%\n",
      "Epoch 20, CIFAR-10 Batch 2:  \t\n",
      "Loss: 0.547,  Minibatch Accuracy: 82.99%, Validation Accuracy: 65.04%\n",
      "Epoch 20, CIFAR-10 Batch 3:  \t\n",
      "Loss: 0.539,  Minibatch Accuracy: 81.31%, Validation Accuracy: 64.54%\n",
      "Epoch 20, CIFAR-10 Batch 4:  \t\n",
      "Loss: 0.513,  Minibatch Accuracy: 82.35%, Validation Accuracy: 65.56%\n",
      "Epoch 20, CIFAR-10 Batch 5:  \t\n",
      "Loss: 0.534,  Minibatch Accuracy: 81.70%, Validation Accuracy: 64.74%\n",
      "Epoch 21, CIFAR-10 Batch 1:  \t\n",
      "Loss: 0.489,  Minibatch Accuracy: 83.76%, Validation Accuracy: 65.48%\n",
      "Epoch 21, CIFAR-10 Batch 2:  \t\n",
      "Loss: 0.540,  Minibatch Accuracy: 81.96%, Validation Accuracy: 63.96%\n",
      "Epoch 21, CIFAR-10 Batch 3:  \t\n",
      "Loss: 0.516,  Minibatch Accuracy: 81.96%, Validation Accuracy: 64.22%\n",
      "Epoch 21, CIFAR-10 Batch 4:  \t\n",
      "Loss: 0.534,  Minibatch Accuracy: 82.22%, Validation Accuracy: 62.70%\n",
      "Epoch 21, CIFAR-10 Batch 5:  \t\n",
      "Loss: 0.499,  Minibatch Accuracy: 83.51%, Validation Accuracy: 65.74%\n",
      "Epoch 22, CIFAR-10 Batch 1:  \t\n",
      "Loss: 0.498,  Minibatch Accuracy: 82.47%, Validation Accuracy: 64.76%\n",
      "Epoch 22, CIFAR-10 Batch 2:  \t\n",
      "Loss: 0.522,  Minibatch Accuracy: 82.60%, Validation Accuracy: 64.24%\n",
      "Epoch 22, CIFAR-10 Batch 3:  \t\n",
      "Loss: 0.476,  Minibatch Accuracy: 83.63%, Validation Accuracy: 64.88%\n",
      "Epoch 22, CIFAR-10 Batch 4:  \t\n",
      "Loss: 0.494,  Minibatch Accuracy: 83.12%, Validation Accuracy: 64.40%\n",
      "Epoch 22, CIFAR-10 Batch 5:  \t\n",
      "Loss: 0.500,  Minibatch Accuracy: 82.47%, Validation Accuracy: 65.36%\n",
      "Epoch 23, CIFAR-10 Batch 1:  \t\n",
      "Loss: 0.444,  Minibatch Accuracy: 84.92%, Validation Accuracy: 65.24%\n",
      "Epoch 23, CIFAR-10 Batch 2:  \t\n",
      "Loss: 0.489,  Minibatch Accuracy: 84.66%, Validation Accuracy: 64.44%\n",
      "Epoch 23, CIFAR-10 Batch 3:  \t\n",
      "Loss: 0.481,  Minibatch Accuracy: 82.99%, Validation Accuracy: 64.24%\n",
      "Epoch 23, CIFAR-10 Batch 4:  \t\n",
      "Loss: 0.528,  Minibatch Accuracy: 82.99%, Validation Accuracy: 60.90%\n",
      "Epoch 23, CIFAR-10 Batch 5:  \t\n",
      "Loss: 0.550,  Minibatch Accuracy: 80.54%, Validation Accuracy: 63.70%\n",
      "Epoch 24, CIFAR-10 Batch 1:  \t\n",
      "Loss: 0.449,  Minibatch Accuracy: 85.18%, Validation Accuracy: 65.28%\n",
      "Epoch 24, CIFAR-10 Batch 2:  \t\n",
      "Loss: 0.510,  Minibatch Accuracy: 81.83%, Validation Accuracy: 64.34%\n",
      "Epoch 24, CIFAR-10 Batch 3:  \t\n",
      "Loss: 0.454,  Minibatch Accuracy: 84.79%, Validation Accuracy: 65.34%\n",
      "Epoch 24, CIFAR-10 Batch 4:  \t\n",
      "Loss: 0.415,  Minibatch Accuracy: 87.11%, Validation Accuracy: 64.66%\n",
      "Epoch 24, CIFAR-10 Batch 5:  \t\n",
      "Loss: 0.431,  Minibatch Accuracy: 84.92%, Validation Accuracy: 65.72%\n",
      "Epoch 25, CIFAR-10 Batch 1:  \t\n",
      "Loss: 0.418,  Minibatch Accuracy: 85.31%, Validation Accuracy: 65.38%\n",
      "Epoch 25, CIFAR-10 Batch 2:  \t\n",
      "Loss: 0.459,  Minibatch Accuracy: 83.89%, Validation Accuracy: 63.86%\n",
      "Epoch 25, CIFAR-10 Batch 3:  \t\n",
      "Loss: 0.522,  Minibatch Accuracy: 82.09%, Validation Accuracy: 62.08%\n",
      "Epoch 25, CIFAR-10 Batch 4:  \t\n",
      "Loss: 0.467,  Minibatch Accuracy: 83.25%, Validation Accuracy: 62.76%\n",
      "Epoch 25, CIFAR-10 Batch 5:  \t\n",
      "Loss: 0.462,  Minibatch Accuracy: 84.28%, Validation Accuracy: 64.12%\n"
     ]
    }
   ],
   "source": [
    "\"\"\"\n",
    "DON'T MODIFY ANYTHING IN THIS CELL\n",
    "\"\"\"\n",
    "save_model_path = './image_classification'\n",
    "\n",
    "print('Training...')\n",
    "with tf.Session() as sess:\n",
    "    # Initializing the variables\n",
    "    sess.run(tf.global_variables_initializer())\n",
    "    \n",
    "    # Training cycle\n",
    "    for epoch in range(epochs):\n",
    "        # Loop over all batches\n",
    "        n_batches = 5\n",
    "        for batch_i in range(1, n_batches + 1):\n",
    "            for batch_features, batch_labels in helper.load_preprocess_training_batch(batch_i, batch_size):\n",
    "                train_neural_network(sess, optimizer, keep_probability, batch_features, batch_labels)\n",
    "            print('Epoch {:>2}, CIFAR-10 Batch {}:  '.format(epoch + 1, batch_i), end='')\n",
    "            print_stats(sess, batch_features, batch_labels, cost, accuracy)\n",
    "            \n",
    "    # Save Model\n",
    "    saver = tf.train.Saver()\n",
    "    save_path = saver.save(sess, save_model_path)"
   ]
  },
  {
   "cell_type": "markdown",
   "metadata": {},
   "source": [
    "# Checkpoint\n",
    "The model has been saved to disk.\n",
    "## Test Model\n",
    "Test your model against the test dataset.  This will be your final accuracy. You should have an accuracy greater than 50%. If you don't, keep tweaking the model architecture and parameters."
   ]
  },
  {
   "cell_type": "code",
   "execution_count": 23,
   "metadata": {},
   "outputs": [
    {
     "name": "stdout",
     "output_type": "stream",
     "text": [
      "INFO:tensorflow:Restoring parameters from ./image_classification\n",
      "Testing Accuracy: 0.6395852088928222\n",
      "\n"
     ]
    },
    {
     "data": {
      "image/png": "[encoded data removed]",
      "text/plain": [
       "<matplotlib.figure.Figure at 0x7f4c1807d0f0>"
      ]
     },
     "metadata": {
      "image/png": {
       "height": 319.0,
       "width": 355.0
      }
     },
     "output_type": "display_data"
    }
   ],
   "source": [
    "\"\"\"\n",
    "DON'T MODIFY ANYTHING IN THIS CELL\n",
    "\"\"\"\n",
    "%matplotlib inline\n",
    "%config InlineBackend.figure_format = 'retina'\n",
    "\n",
    "import tensorflow as tf\n",
    "import pickle\n",
    "import helper\n",
    "import random\n",
    "\n",
    "# Set batch size if not already set\n",
    "try:\n",
    "    if batch_size:\n",
    "        pass\n",
    "except NameError:\n",
    "    batch_size = 64\n",
    "\n",
    "save_model_path = './image_classification'\n",
    "n_samples = 4\n",
    "top_n_predictions = 3\n",
    "\n",
    "def test_model():\n",
    "    \"\"\"\n",
    "    Test the saved model against the test dataset\n",
    "    \"\"\"\n",
    "\n",
    "    test_features, test_labels = pickle.load(open('preprocess_test.p', mode='rb'))\n",
    "    loaded_graph = tf.Graph()\n",
    "\n",
    "    with tf.Session(graph=loaded_graph) as sess:\n",
    "        # Load model\n",
    "        loader = tf.train.import_meta_graph(save_model_path + '.meta')\n",
    "        loader.restore(sess, save_model_path)\n",
    "\n",
    "        # Get Tensors from loaded model\n",
    "        loaded_x = loaded_graph.get_tensor_by_name('x:0')\n",
    "        loaded_y = loaded_graph.get_tensor_by_name('y:0')\n",
    "        loaded_keep_prob = loaded_graph.get_tensor_by_name('keep_prob:0')\n",
    "        loaded_logits = loaded_graph.get_tensor_by_name('logits:0')\n",
    "        loaded_acc = loaded_graph.get_tensor_by_name('accuracy:0')\n",
    "        \n",
    "        # Get accuracy in batches for memory limitations\n",
    "        test_batch_acc_total = 0\n",
    "        test_batch_count = 0\n",
    "        \n",
    "        for test_feature_batch, test_label_batch in helper.batch_features_labels(test_features, test_labels, batch_size):\n",
    "            test_batch_acc_total += sess.run(\n",
    "                loaded_acc,\n",
    "                feed_dict={loaded_x: test_feature_batch, loaded_y: test_label_batch, loaded_keep_prob: 1.0})\n",
    "            test_batch_count += 1\n",
    "\n",
    "        print('Testing Accuracy: {}\\n'.format(test_batch_acc_total/test_batch_count))\n",
    "\n",
    "        # Print Random Samples\n",
    "        random_test_features, random_test_labels = tuple(zip(*random.sample(list(zip(test_features, test_labels)), n_samples)))\n",
    "        random_test_predictions = sess.run(\n",
    "            tf.nn.top_k(tf.nn.softmax(loaded_logits), top_n_predictions),\n",
    "            feed_dict={loaded_x: random_test_features, loaded_y: random_test_labels, loaded_keep_prob: 1.0})\n",
    "        helper.display_image_predictions(random_test_features, random_test_labels, random_test_predictions)\n",
    "\n",
    "\n",
    "test_model()"
   ]
  },
  {
   "cell_type": "markdown",
   "metadata": {},
   "source": [
    "## Why 50-80% Accuracy?\n",
    "You might be wondering why you can't get an accuracy any higher. First things first, 50% isn't bad for a simple CNN.  Pure guessing would get you 10% accuracy. However, you might notice people are getting scores [well above 80%](http://rodrigob.github.io/are_we_there_yet/build/classification_datasets_results.html#43494641522d3130).  That's because we haven't taught you all there is to know about neural networks. We still need to cover a few more techniques.\n",
    "## Submitting This Project\n",
    "When submitting this project, make sure to run all the cells before saving the notebook.  Save the notebook file as \"dlnd_image_classification.ipynb\" and save it as a HTML file under \"File\" -> \"Download as\".  Include the \"helper.py\" and \"problem_unittests.py\" files in your submission."
   ]
  }
 ],
 "metadata": {
  "kernelspec": {
   "display_name": "Python 3",
   "language": "python",
   "name": "python3"
  },
  "language_info": {
   "codemirror_mode": {
    "name": "ipython",
    "version": 3.0
   },
   "file_extension": ".py",
   "mimetype": "text/x-python",
   "name": "python",
   "nbconvert_exporter": "python",
   "pygments_lexer": "ipython3",
   "version": "3.5.2"
  }
 },
 "nbformat": 4,
 "nbformat_minor": 0
}